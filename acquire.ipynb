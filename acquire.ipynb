{
 "cells": [
  {
   "cell_type": "markdown",
   "id": "0eec52fb-c05b-4239-874b-c39532c77689",
   "metadata": {},
   "source": [
    "# Acquire"
   ]
  },
  {
   "cell_type": "code",
   "execution_count": 2,
   "id": "cf442f96-8a3f-41cb-9408-c2a7d46cdb88",
   "metadata": {},
   "outputs": [],
   "source": [
    "# install tensorflow\n",
    "# !pip install tensorflow tensorflow-gpu opencv-python matplotlib"
   ]
  },
  {
   "cell_type": "code",
   "execution_count": 10,
   "id": "da156507-e2fa-4503-b905-8fdb0394bbff",
   "metadata": {},
   "outputs": [],
   "source": [
    "# easily search for images and download them\n",
    "# !pip install google_images_download"
   ]
  },
  {
   "cell_type": "code",
   "execution_count": 4,
   "id": "026b3572-54f0-4ced-bf3f-0a82377f36ae",
   "metadata": {},
   "outputs": [],
   "source": [
    "# library for image scraping that allows you to implement various strategies to avoid being blocked\n",
    "# !pip install icrawler"
   ]
  },
  {
   "cell_type": "code",
   "execution_count": 17,
   "id": "5cf7ab40-8dd6-401b-b985-b25a062e94fb",
   "metadata": {},
   "outputs": [],
   "source": [
    "import time\n",
    "from google_images_download import google_images_download\n",
    "from icrawler.builtin import GoogleImageCrawler\n",
    "import os\n",
    "\n",
    "import warnings\n",
    "warnings.filterwarnings('ignore')"
   ]
  },
  {
   "cell_type": "markdown",
   "id": "734dfedf-a22f-441f-8734-32b282dddf68",
   "metadata": {},
   "source": [
    "## Get images"
   ]
  },
  {
   "cell_type": "code",
   "execution_count": 8,
   "id": "9c73aebf-a809-417b-8b04-647c9742e918",
   "metadata": {},
   "outputs": [],
   "source": [
    "def download_images(keyword:str, limit:int, output_dir:str):\n",
    "    google_crawler = GoogleImageCrawler(\n",
    "        downloader_threads=4,  # Number of downloader threads (adjust as needed)\n",
    "        storage={'root_dir': output_dir}\n",
    "    )\n",
    "\n",
    "    filters = dict(type='photo')  # Specify filters as needed\n",
    "\n",
    "    google_crawler.crawl(\n",
    "        keyword=keyword,\n",
    "        filters=filters,\n",
    "        max_num=limit,\n",
    "        file_idx_offset=0,\n",
    "        min_size=(200, 200),  # Minimum image size (adjust as needed)\n",
    "        max_size=None  # Maximum image size (adjust as needed)\n",
    "    )"
   ]
  },
  {
   "cell_type": "code",
   "execution_count": 9,
   "id": "87503d43-19e9-47b4-bc98-de77931437a2",
   "metadata": {},
   "outputs": [],
   "source": [
    "search_keywords = [\"bicycle\", \"motorcycle\"]\n",
    "image_limit = 100  # Set the number of images you want to download for each keyword\n",
    "\n",
    "for keyword in search_keywords:\n",
    "    output_directory = f\"./data/{keyword}\"  \n",
    "    download_images(keyword, image_limit, output_directory)\n",
    "    time.sleep(10)  # Add a delay between keyword searches to avoid being blocked\n"
   ]
  }
 ],
 "metadata": {
  "kernelspec": {
   "display_name": "Python 3 (ipykernel)",
   "language": "python",
   "name": "python3"
  },
  "language_info": {
   "codemirror_mode": {
    "name": "ipython",
    "version": 3
   },
   "file_extension": ".py",
   "mimetype": "text/x-python",
   "name": "python",
   "nbconvert_exporter": "python",
   "pygments_lexer": "ipython3",
   "version": "3.10.9"
  }
 },
 "nbformat": 4,
 "nbformat_minor": 5
}
